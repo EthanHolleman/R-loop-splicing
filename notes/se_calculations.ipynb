{
 "metadata": {
  "language_info": {
   "codemirror_mode": {
    "name": "ipython",
    "version": 3
   },
   "file_extension": ".py",
   "mimetype": "text/x-python",
   "name": "python",
   "nbconvert_exporter": "python",
   "pygments_lexer": "ipython3",
   "version": 3
  },
  "orig_nbformat": 2
 },
 "nbformat": 4,
 "nbformat_minor": 2,
 "cells": [
  {
   "source": [
    "# R-loops should form before splicing\n",
    "\n",
    "Generally beleived that R-loops are formed before splicing has the chance to occur. This was demonstrated in the SMRF-seq paper as R-loop footprints generally spanned intron-exon bounds. *Saldi et al 2021* used nacent transcription to measure splicing efficiency across the genome. \n",
    "\n",
    "If the header is the case then where more efficient splicing is observed we should expect lower degree of R-loop formation, measured as DRIP-signal. Below is *Saldi et al* splicing efficiency (SE) metric visualized.\n",
    "\n",
    "![](images/fig1.png)"
   ],
   "cell_type": "markdown",
   "metadata": {}
  },
  {
   "source": [
    "## Strategy\n",
    "\n",
    "Nascent transcription was measured using `tNet-seq` and processed read counts are available in additional data files of GEO acession [here](https://www.ncbi.nlm.nih.gov/geo/query/acc.cgi?acc=GSE149018).\n",
    "\n",
    "1. Define all intron and exon locations\n",
    "2. `bedtools` window intronic regions against exonic regions. Allow intersections to occur within +1bp of queried regions (introns). This should return the exons flanking each intron.\n",
    "3. Create python script to calculate SE for each intron using this intersection file. Intersections will have read count for both introns and exons as well as their positions (and therefore length) so everything needed for these calculations should be there."
   ],
   "cell_type": "markdown",
   "metadata": {}
  }
 ]
}